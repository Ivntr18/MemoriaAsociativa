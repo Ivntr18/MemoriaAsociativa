{
 "cells": [
  {
   "cell_type": "code",
   "execution_count": 1,
   "metadata": {},
   "outputs": [],
   "source": [
    "import numpy as np"
   ]
  },
  {
   "cell_type": "code",
   "execution_count": 2,
   "metadata": {},
   "outputs": [],
   "source": [
    "tables=np.load(\"tables.npy\")\n",
    "dicY=['a','b','d','e','f','g','i','k','l','m','n','n~','o','p','r','r(','s','t','tS','u','x','Z']"
   ]
  },
  {
   "cell_type": "code",
   "execution_count": 3,
   "metadata": {},
   "outputs": [
    {
     "name": "stdout",
     "output_type": "stream",
     "text": [
      "a 11.563887134315703\n",
      "b 2.1367817185972258\n",
      "d 5.506571717818484\n",
      "e 13.403016327625442\n",
      "f 0.7402376028588487\n",
      "g 0.9267030656479566\n",
      "i 8.07079630703204\n",
      "k 3.49438873073695\n",
      "l 5.915411305604347\n",
      "m 2.6948802035112616\n",
      "n 7.334019780048628\n",
      "n~ 0.13368405568871083\n",
      "o 10.074759238909415\n",
      "p 2.2916648640229815\n",
      "r 0.7398049683744192\n",
      "r( 6.373138590130742\n",
      "s 10.261224701698524\n",
      "t 4.344948127125317\n",
      "tS 0.18689809727353748\n",
      "u 2.792222962507896\n",
      "x 0.6900520026650284\n",
      "Z 0.3249084978065432\n"
     ]
    }
   ],
   "source": [
    "Y=np.load('feat_Y.npy')\n",
    "for j in dicY:\n",
    "    suma=(Y==j).sum()\n",
    "    print(j,suma/Y.size*100)"
   ]
  },
  {
   "cell_type": "code",
   "execution_count": 4,
   "metadata": {},
   "outputs": [
    {
     "name": "stdout",
     "output_type": "stream",
     "text": [
      "a [ 2628.  1849.   559. 19928.   779.]\n",
      "b [  463.   114.    60. 22592.   349.]\n",
      "d [ 1257.   636.   456. 21402.   621.]\n",
      "e [ 3083.  2302.  1645. 18387.   781.]\n",
      "f [1.6900e+02 8.4000e+01 1.4000e+01 2.2932e+04 8.5000e+01]\n",
      "g [2.2100e+02 9.0000e+00 1.5000e+01 2.2879e+04 2.1200e+02]\n",
      "i [ 1846.  1145.   271. 20998.   701.]\n",
      "k [  786.   590.   117. 22212.   196.]\n",
      "l [ 1382.   789.   516. 21217.   593.]\n",
      "m [  601.   235.    47. 22467.   366.]\n",
      "n [ 1726.  1316.   487. 20902.   410.]\n",
      "n~ [   34.     0.     0. 23081.    34.]\n",
      "o [ 2336.  1547.   861. 19918.   789.]\n",
      "p [  517.   216.    29. 22569.   301.]\n",
      "r [1.6200e+02 1.5000e+01 1.0000e+01 2.2943e+04 1.4700e+02]\n",
      "r( [ 1588.   795.   447. 21080.   793.]\n",
      "s [ 2352.  2177.    57. 20706.   175.]\n",
      "t [ 1016.   794.   286. 21813.   222.]\n",
      "tS [4.6000e+01 7.0000e+00 0.0000e+00 2.3069e+04 3.9000e+01]\n",
      "u [  677.   116.    78. 22360.   561.]\n",
      "x [1.460e+02 3.400e+01 9.000e+00 2.296e+04 1.120e+02]\n",
      "Z [7.9000e+01 3.0000e+00 3.0000e+00 2.3033e+04 7.6000e+01]\n"
     ]
    }
   ],
   "source": [
    "i=3\n",
    "for j,k in zip(dicY,tables[i]):\n",
    "    print(j, k)"
   ]
  },
  {
   "cell_type": "code",
   "execution_count": 5,
   "metadata": {},
   "outputs": [],
   "source": [
    "#print(\"Distribution\")\n",
    "#for j,k in zip(dicY,tables[i,:,0]/tables[i,:,0].sum()):\n",
    "#    print(j, k*100)"
   ]
  },
  {
   "cell_type": "code",
   "execution_count": 6,
   "metadata": {},
   "outputs": [
    {
     "name": "stdout",
     "output_type": "stream",
     "text": [
      "Precision\n",
      "a 76.78571428571429\n",
      "b 65.51724137931035\n",
      "d 58.24175824175825\n",
      "e 58.32277679250063\n",
      "f 85.71428571428571\n",
      "g 37.5\n",
      "i 80.86158192090396\n",
      "k 83.45120226308345\n",
      "l 60.45977011494252\n",
      "m 83.33333333333334\n",
      "n 72.98946200776484\n",
      "n~ nan\n",
      "o 64.24418604651163\n",
      "p 88.16326530612245\n",
      "r 60.0\n",
      "r( 64.00966183574879\n",
      "s 97.44852282900627\n",
      "t 73.51851851851852\n",
      "tS 100.0\n",
      "u 59.79381443298969\n",
      "x 79.06976744186046\n",
      "Z 50.0\n"
     ]
    },
    {
     "name": "stderr",
     "output_type": "stream",
     "text": [
      "/home/ivantr18/.local/lib/python3.5/site-packages/ipykernel_launcher.py:2: RuntimeWarning: invalid value encountered in true_divide\n",
      "  \n"
     ]
    }
   ],
   "source": [
    "print(\"Precision\")\n",
    "for j,k in zip(dicY,tables[i,:,1]/(tables[i,:,1]+tables[i,:,2])):\n",
    "    print(j, k*100)"
   ]
  },
  {
   "cell_type": "code",
   "execution_count": 7,
   "metadata": {},
   "outputs": [
    {
     "name": "stdout",
     "output_type": "stream",
     "text": [
      "Recall\n",
      "a 70.35768645357686\n",
      "b 24.622030237580994\n",
      "d 50.59665871121718\n",
      "e 74.66753162504054\n",
      "f 49.70414201183432\n",
      "g 4.072398190045249\n",
      "i 62.026002166847235\n",
      "k 75.06361323155217\n",
      "l 57.091172214182336\n",
      "m 39.10149750415973\n",
      "n 76.24565469293162\n",
      "n~ 0.0\n",
      "o 66.22431506849315\n",
      "p 41.77949709864603\n",
      "r 9.25925925925926\n",
      "r( 50.06297229219143\n",
      "s 92.55952380952381\n",
      "t 78.1496062992126\n",
      "tS 15.217391304347828\n",
      "u 17.134416543574595\n",
      "x 23.28767123287671\n",
      "Z 3.79746835443038\n"
     ]
    }
   ],
   "source": [
    "print(\"Recall\")\n",
    "for j,k in zip(dicY,tables[i,:,1]/(tables[i,:,1]+tables[i,:,4])):\n",
    "    print(j, k*100)"
   ]
  },
  {
   "cell_type": "code",
   "execution_count": 8,
   "metadata": {},
   "outputs": [
    {
     "data": {
      "text/plain": [
       "0.6391088038070517"
      ]
     },
     "execution_count": 8,
     "metadata": {},
     "output_type": "execute_result"
    }
   ],
   "source": [
    "tables[i,:,1].sum()/(tables[i,:,0].sum())"
   ]
  },
  {
   "cell_type": "code",
   "execution_count": null,
   "metadata": {},
   "outputs": [],
   "source": []
  }
 ],
 "metadata": {
  "kernelspec": {
   "display_name": "Python 3",
   "language": "python",
   "name": "python3"
  },
  "language_info": {
   "codemirror_mode": {
    "name": "ipython",
    "version": 3
   },
   "file_extension": ".py",
   "mimetype": "text/x-python",
   "name": "python",
   "nbconvert_exporter": "python",
   "pygments_lexer": "ipython3",
   "version": "3.5.2"
  }
 },
 "nbformat": 4,
 "nbformat_minor": 2
}
