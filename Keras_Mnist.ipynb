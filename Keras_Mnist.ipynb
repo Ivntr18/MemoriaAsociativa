{
 "cells": [
  {
   "cell_type": "code",
   "execution_count": 1,
   "metadata": {},
   "outputs": [
    {
     "name": "stderr",
     "output_type": "stream",
     "text": [
      "Using TensorFlow backend.\n"
     ]
    }
   ],
   "source": [
    "import numpy as np\n",
    "import tensorflow as tf\n",
    "from tensorflow import keras\n",
    "from tensorflow.keras import backend as K\n",
    "from tensorflow.keras.layers import *\n",
    "from tensorflow.keras.layers import Input, Dense\n",
    "from tensorflow.keras.models import Model\n",
    "from keras.datasets import mnist"
   ]
  },
  {
   "cell_type": "code",
   "execution_count": 2,
   "metadata": {},
   "outputs": [],
   "source": [
    "batch_size = 128\n",
    "num_classes = 10\n",
    "epochs = 10\n",
    "img_rows, img_cols = 28, 28"
   ]
  },
  {
   "cell_type": "code",
   "execution_count": 3,
   "metadata": {},
   "outputs": [],
   "source": [
    "(x_train, y_train), (x_test, y_test) = mnist.load_data()"
   ]
  },
  {
   "cell_type": "code",
   "execution_count": 4,
   "metadata": {},
   "outputs": [],
   "source": [
    "if K.image_data_format() == 'channels_first':\n",
    "    x_train = x_train.reshape(x_train.shape[0], 1, img_rows, img_cols)\n",
    "    x_test = x_test.reshape(x_test.shape[0], 1, img_rows, img_cols)\n",
    "    input_shape = (1, img_rows, img_cols)\n",
    "else:\n",
    "    x_train = x_train.reshape(x_train.shape[0], img_rows, img_cols, 1)\n",
    "    x_test = x_test.reshape(x_test.shape[0], img_rows, img_cols, 1)\n",
    "    input_shape = (img_rows, img_cols, 1)"
   ]
  },
  {
   "cell_type": "code",
   "execution_count": 5,
   "metadata": {},
   "outputs": [],
   "source": [
    "x_train = x_train.astype('float32')\n",
    "x_test = x_test.astype('float32')\n",
    "#x_train /= X.max()\n",
    "#x_test /= X.max()\n",
    "\n",
    "#Save y_train/test before onehot encoding\n",
    "np.save('T22Audio/train_features_Y.npy',y_train)\n",
    "np.save('T22Audio/test_features_Y.npy',y_test)\n",
    "# convert class vectors to binary class matrices\n",
    "y_train = keras.utils.to_categorical(y_train, num_classes)\n",
    "y_test = keras.utils.to_categorical(y_test, num_classes)"
   ]
  },
  {
   "cell_type": "code",
   "execution_count": 6,
   "metadata": {},
   "outputs": [],
   "source": [
    "def Conv():\n",
    "    input_img = Input(shape=input_shape)  # adapt this if using `channels_first` image data format   \n",
    "    e1 = Conv2D(16, (3, 3),strides=(2, 2), activation='relu', padding='valid')(input_img)\n",
    "    e2 = MaxPooling2D(pool_size=(2, 2), padding='same')(e1)\n",
    "    e3 = Conv2D(32, (3, 3), activation='relu', padding='same')(e2)\n",
    "    e4 = Conv2D(64, (3, 3), activation='relu', padding='same')(e3)\n",
    "    e5 = Conv2D(128, (3, 3), activation='relu', padding='same')(e4)\n",
    "    #e6 = MaxPooling2D(pool_size=(2, 2), padding='same')(e5)\n",
    "    e7 = Flatten()(e5)\n",
    "    e8 = Dense(300, activation='relu')(e7)\n",
    "    e9 = Dense(450, activation='relu')(e8)\n",
    "    e10 = Dense(600, activation='relu')(e9)\n",
    "    return Model(input_img, e10)\n",
    "\n",
    "\n",
    "def FCN():\n",
    "    input_net = Input(shape=(600,))  # adapt this if using `channels_first` image data format   \n",
    "    d1 = Dense(num_classes, activation='softmax')(input_net)\n",
    "    return Model(input_net, d1)\n",
    "\n",
    "x = Input(shape=input_shape)\n",
    "modelFCN=FCN()\n",
    "modelConv=Conv()\n",
    "# make the model:\n",
    "model = Model(x, modelFCN(modelConv(x)))"
   ]
  },
  {
   "cell_type": "code",
   "execution_count": 7,
   "metadata": {},
   "outputs": [],
   "source": [
    "model.compile(keras.optimizers.Adam(lr=0.001), \n",
    "              loss=keras.losses.categorical_crossentropy,\n",
    "              metrics=['accuracy'])"
   ]
  },
  {
   "cell_type": "code",
   "execution_count": 8,
   "metadata": {},
   "outputs": [
    {
     "name": "stdout",
     "output_type": "stream",
     "text": [
      "Train on 60000 samples, validate on 10000 samples\n",
      "Epoch 1/10\n",
      "60000/60000 [==============================] - 4s 72us/step - loss: 0.2358 - acc: 0.9352 - val_loss: 0.0691 - val_acc: 0.9776\n",
      "Epoch 2/10\n",
      "60000/60000 [==============================] - 2s 40us/step - loss: 0.0592 - acc: 0.9820 - val_loss: 0.0580 - val_acc: 0.9827\n",
      "Epoch 3/10\n",
      "60000/60000 [==============================] - 2s 39us/step - loss: 0.0419 - acc: 0.9865 - val_loss: 0.0509 - val_acc: 0.9848\n",
      "Epoch 4/10\n",
      "60000/60000 [==============================] - 2s 39us/step - loss: 0.0368 - acc: 0.9889 - val_loss: 0.0599 - val_acc: 0.9842\n",
      "Epoch 5/10\n",
      "60000/60000 [==============================] - 2s 39us/step - loss: 0.0313 - acc: 0.9905 - val_loss: 0.0648 - val_acc: 0.9812\n",
      "Epoch 6/10\n",
      "60000/60000 [==============================] - 2s 39us/step - loss: 0.0277 - acc: 0.9916 - val_loss: 0.0505 - val_acc: 0.9858\n",
      "Epoch 7/10\n",
      "60000/60000 [==============================] - 2s 39us/step - loss: 0.0234 - acc: 0.9930 - val_loss: 0.0520 - val_acc: 0.9853\n",
      "Epoch 8/10\n",
      "60000/60000 [==============================] - 2s 39us/step - loss: 0.0223 - acc: 0.9935 - val_loss: 0.0650 - val_acc: 0.9831\n",
      "Epoch 9/10\n",
      "60000/60000 [==============================] - 2s 39us/step - loss: 0.0226 - acc: 0.9934 - val_loss: 0.0566 - val_acc: 0.9858\n",
      "Epoch 10/10\n",
      "60000/60000 [==============================] - 2s 39us/step - loss: 0.0232 - acc: 0.9936 - val_loss: 0.0637 - val_acc: 0.9859\n"
     ]
    },
    {
     "data": {
      "text/plain": [
       "<tensorflow.python.keras.callbacks.History at 0x7f43c4d926d8>"
      ]
     },
     "execution_count": 8,
     "metadata": {},
     "output_type": "execute_result"
    }
   ],
   "source": [
    "model.fit(x_train, y_train,\n",
    "          batch_size=batch_size,\n",
    "          epochs=epochs,\n",
    "          verbose=1,\n",
    "          validation_data=(x_test, y_test))"
   ]
  },
  {
   "cell_type": "code",
   "execution_count": 9,
   "metadata": {},
   "outputs": [],
   "source": [
    "np.save('T22Audio/test_features_X.npy',modelConv.predict(x_test))\n",
    "np.save('T22Audio/train_features_X.npy',modelConv.predict(x_train))"
   ]
  },
  {
   "cell_type": "code",
   "execution_count": null,
   "metadata": {},
   "outputs": [],
   "source": []
  }
 ],
 "metadata": {
  "kernelspec": {
   "display_name": "tensorflow",
   "language": "python",
   "name": "tensorflow"
  },
  "language_info": {
   "codemirror_mode": {
    "name": "ipython",
    "version": 3
   },
   "file_extension": ".py",
   "mimetype": "text/x-python",
   "name": "python",
   "nbconvert_exporter": "python",
   "pygments_lexer": "ipython3",
   "version": "3.5.2"
  }
 },
 "nbformat": 4,
 "nbformat_minor": 2
}
