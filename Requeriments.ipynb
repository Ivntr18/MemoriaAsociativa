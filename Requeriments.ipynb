{
 "cells": [
  {
   "cell_type": "code",
   "execution_count": 1,
   "metadata": {},
   "outputs": [
    {
     "name": "stdout",
     "output_type": "stream",
     "text": [
      "Collecting joblib\n",
      "  Using cached joblib-0.11-py2.py3-none-any.whl\n",
      "Installing collected packages: joblib\n",
      "Successfully installed joblib-0.11\n",
      "\u001b[33mYou are using pip version 8.1.1, however version 9.0.1 is available.\n",
      "You should consider upgrading via the 'pip install --upgrade pip' command.\u001b[0m\n",
      "Collecting matplotlib\n",
      "  Downloading matplotlib-2.1.2-cp35-cp35m-manylinux1_x86_64.whl (15.0MB)\n",
      "\u001b[K    100% |████████████████████████████████| 15.0MB 148kB/s eta 0:00:01\n",
      "\u001b[?25hCollecting six>=1.10 (from matplotlib)\n",
      "  Using cached six-1.11.0-py2.py3-none-any.whl\n",
      "Collecting numpy>=1.7.1 (from matplotlib)\n",
      "  Downloading numpy-1.14.0-cp35-cp35m-manylinux1_x86_64.whl (17.1MB)\n",
      "\u001b[K    100% |████████████████████████████████| 17.1MB 125kB/s eta 0:00:011\n",
      "\u001b[?25hCollecting python-dateutil>=2.1 (from matplotlib)\n",
      "  Using cached python_dateutil-2.6.1-py2.py3-none-any.whl\n",
      "Collecting pytz (from matplotlib)\n",
      "  Downloading pytz-2017.3-py2.py3-none-any.whl (511kB)\n",
      "\u001b[K    100% |████████████████████████████████| 512kB 3.3MB/s eta 0:00:01\n",
      "\u001b[?25hCollecting cycler>=0.10 (from matplotlib)\n",
      "  Downloading cycler-0.10.0-py2.py3-none-any.whl\n",
      "Collecting pyparsing!=2.0.4,!=2.1.2,!=2.1.6,>=2.0.1 (from matplotlib)\n",
      "  Downloading pyparsing-2.2.0-py2.py3-none-any.whl (56kB)\n",
      "\u001b[K    100% |████████████████████████████████| 61kB 8.1MB/s eta 0:00:01\n",
      "\u001b[?25hInstalling collected packages: six, numpy, python-dateutil, pytz, cycler, pyparsing, matplotlib\n",
      "Successfully installed cycler-0.10.0 matplotlib-2.1.2 numpy-1.14.0 pyparsing-2.2.0 python-dateutil-2.6.1 pytz-2017.3 six-1.11.0\n",
      "\u001b[33mYou are using pip version 8.1.1, however version 9.0.1 is available.\n",
      "You should consider upgrading via the 'pip install --upgrade pip' command.\u001b[0m\n",
      "Collecting numpy\n",
      "  Using cached numpy-1.14.0-cp35-cp35m-manylinux1_x86_64.whl\n",
      "Installing collected packages: numpy\n",
      "Successfully installed numpy-1.14.0\n",
      "\u001b[33mYou are using pip version 8.1.1, however version 9.0.1 is available.\n",
      "You should consider upgrading via the 'pip install --upgrade pip' command.\u001b[0m\n",
      "Collecting theano\n",
      "  Downloading Theano-1.0.1.tar.gz (2.8MB)\n",
      "\u001b[K    100% |████████████████████████████████| 2.8MB 773kB/s  eta 0:00:01\n",
      "\u001b[?25hCollecting numpy>=1.9.1 (from theano)\n",
      "  Using cached numpy-1.14.0-cp35-cp35m-manylinux1_x86_64.whl\n",
      "Collecting scipy>=0.14 (from theano)\n",
      "  Downloading scipy-1.0.0-cp35-cp35m-manylinux1_x86_64.whl (49.6MB)\n",
      "\u001b[K    100% |████████████████████████████████| 49.6MB 39kB/s eta 0:00:0111 4% |█▌                              | 2.3MB 12.1MB/s eta 0:00:04    98% |███████████████████████████████▍| 48.7MB 10.6MB/s eta 0:00:01\n",
      "\u001b[?25hCollecting six>=1.9.0 (from theano)\n",
      "  Using cached six-1.11.0-py2.py3-none-any.whl\n",
      "Building wheels for collected packages: theano\n",
      "  Running setup.py bdist_wheel for theano ... \u001b[?25ldone\n",
      "\u001b[?25h  Stored in directory: /home/ivantr18/.cache/pip/wheels/46/a2/7d/b4cac381d5151daa9f9e0b3e4e4b65edaea6355ae296c97cf2\n",
      "Successfully built theano\n",
      "Installing collected packages: numpy, scipy, six, theano\n",
      "Successfully installed numpy-1.14.0 scipy-1.0.0 six-1.11.0 theano-1.0.1\n",
      "\u001b[33mYou are using pip version 8.1.1, however version 9.0.1 is available.\n",
      "You should consider upgrading via the 'pip install --upgrade pip' command.\u001b[0m\n"
     ]
    }
   ],
   "source": [
    "import sys\n",
    "!{sys.executable} -m pip install joblib\n",
    "!{sys.executable} -m pip install matplotlib\n",
    "!{sys.executable} -m pip install numpy\n",
    "!{sys.executable} -m pip install theano"
   ]
  },
  {
   "cell_type": "code",
   "execution_count": null,
   "metadata": {},
   "outputs": [],
   "source": []
  }
 ],
 "metadata": {
  "kernelspec": {
   "display_name": "Python 3",
   "language": "python",
   "name": "python3"
  },
  "language_info": {
   "codemirror_mode": {
    "name": "ipython",
    "version": 3
   },
   "file_extension": ".py",
   "mimetype": "text/x-python",
   "name": "python",
   "nbconvert_exporter": "python",
   "pygments_lexer": "ipython3",
   "version": "3.5.2"
  }
 },
 "nbformat": 4,
 "nbformat_minor": 2
}
